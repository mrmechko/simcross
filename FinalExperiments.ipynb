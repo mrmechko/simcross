{
 "cells": [
  {
   "cell_type": "code",
   "execution_count": 4,
   "metadata": {},
   "outputs": [],
   "source": [
    "import pandas as pd\n",
    "from simcross.experiment import *\n",
    "from simcross.data import *\n",
    "from simcross.struct import *"
   ]
  },
  {
   "cell_type": "code",
   "execution_count": 5,
   "metadata": {},
   "outputs": [],
   "source": [
    "df = None\n",
    "_dcache={}\n",
    "\n",
    "node_weights[\"fakeroot\"] = 1\n",
    "node_weights[\"wordnet\"] = 1\n",
    "node_weights[\"trips\"] = 1\n",
    "node_weights[\"word\"] = 1\n",
    "\n",
    "postuple=True"
   ]
  },
  {
   "cell_type": "code",
   "execution_count": 6,
   "metadata": {},
   "outputs": [
    {
     "name": "stdout",
     "output_type": "stream",
     "text": [
      "3000\n",
      "3000\n"
     ]
    }
   ],
   "source": [
    "\n",
    "fname = [\"elias\", \"marcos\"][0]\n",
    "\n",
    "test = MENIndiv\n",
    "postuple=True\n",
    "\n",
    "e = ExperimentDefinition\n",
    "definitions = [\n",
    "    e(\"MEN-elias\", \"normal\", \"average\", \"max\", \"max\", fname),\n",
    "    e(\"MEN-elias\", \"cross\", \"average\", \"max\", \"max\", fname),\n",
    "]\n",
    "\n",
    "for t in definitions:\n",
    "    df = experiment_string(run_experiment(run_dataset(t, test), postuple=postuple), dataframe=df)"
   ]
  },
  {
   "cell_type": "code",
   "execution_count": null,
   "metadata": {},
   "outputs": [
    {
     "name": "stdout",
     "output_type": "stream",
     "text": [
      "3000\n",
      "3000\n"
     ]
    }
   ],
   "source": [
    "fname = [\"elias\", \"marcos\"][1]\n",
    "\n",
    "\n",
    "\n",
    "e = ExperimentDefinition \n",
    "definitions = [\n",
    "    e(\"MEN-marcos\", \"normal\", \"average\", \"max\", \"max\", fname),\n",
    "    e(\"MEN-marcos\", \"cross\", \"average\", \"max\", \"max\", fname),\n",
    "]\n",
    "\n",
    "for t in definitions:\n",
    "    df = experiment_string(run_experiment(run_dataset(t, test), postuple=postuple), dataframe=df)"
   ]
  },
  {
   "cell_type": "code",
   "execution_count": null,
   "metadata": {},
   "outputs": [
    {
     "name": "stdout",
     "output_type": "stream",
     "text": [
      "3000\n",
      "3000\n"
     ]
    }
   ],
   "source": [
    "test = MENNatural\n",
    "fname = [\"full\"]\n",
    "\n",
    "e = ExperimentDefinition\n",
    "definitions = []\n",
    "\n",
    "for f in fname:\n",
    "    definitions += [\n",
    "        e(\"MENNatural-\"+f, \"normal\", \"average\", \"max\", \"max\", f),\n",
    "        e(\"MENNatural-\"+f, \"cross\", \"average\", \"max\", \"max\", f)\n",
    "    ]\n",
    "\n",
    "\n",
    "for t in definitions:\n",
    "    df = experiment_string(run_experiment(run_dataset(t, test), postuple=postuple), dataframe=df)"
   ]
  },
  {
   "cell_type": "code",
   "execution_count": null,
   "metadata": {},
   "outputs": [],
   "source": [
    "test = MEN\n",
    "fname = [\"dev\", \"test\"]\n",
    "\n",
    "e = ExperimentDefinition\n",
    "definitions = []\n",
    "\n",
    "for f in fname:\n",
    "    definitions += [\n",
    "        e(\"MEN-\"+f, \"normal\", \"average\", \"max\", \"max\", f),\n",
    "        e(\"MEN-\"+f, \"cross\", \"average\", \"max\", \"max\", f),\n",
    "        e(\"MEN-\"+f, \"cross\", \"lookup\", \"max\", \"max\", f),\n",
    "        e(\"MEN-\"+f, \"cross\", \"mfs\", \"max\", \"max\", f)\n",
    "    ]\n",
    "\n",
    "\n",
    "for t in definitions:\n",
    "    df = experiment_string(run_experiment(run_dataset(t, test), postuple=postuple), dataframe=df)"
   ]
  },
  {
   "cell_type": "code",
   "execution_count": null,
   "metadata": {},
   "outputs": [],
   "source": [
    "MEN_res = df\n",
    "MEN_res.sort_values(by=\"spearmanr\")"
   ]
  },
  {
   "cell_type": "code",
   "execution_count": null,
   "metadata": {},
   "outputs": [],
   "source": [
    "df = None\n",
    "test = slex\n",
    "fname = [\"n\", \"v\", \"vars\", \"nvars\"]\n",
    "postuple=False\n",
    "e = ExperimentDefinition\n",
    "definitions = []\n",
    "\n",
    "for f in fname:\n",
    "    definitions += [\n",
    "        e(\"slex-\"+f, \"normal\", \"average\", \"max\", \"max\", f),\n",
    "        e(\"slex-\"+f, \"cross\", \"average\", \"max\", \"max\", f),\n",
    "        e(\"slex-\"+f, \"cross\", \"lookup\", \"max\", \"max\", f),\n",
    "        e(\"slex-\"+f, \"cross\", \"mfs\", \"max\", \"max\", f)\n",
    "    ]\n",
    "\n",
    "\n",
    "for t in definitions:\n",
    "    df = experiment_string(run_experiment(run_dataset(t, test), postuple=postuple), dataframe=df)\n",
    "\n",
    "df\n",
    "slex_res = df\n",
    "slex_res.sort_values(by=\"spearmanr\")"
   ]
  },
  {
   "cell_type": "code",
   "execution_count": null,
   "metadata": {},
   "outputs": [],
   "source": [
    "df = None\n",
    "test = ws353\n",
    "fname = [\"combined\", \"relatedness\", \"similarity\"]\n",
    "postuple=False\n",
    "e = ExperimentDefinition\n",
    "definitions = []\n",
    "\n",
    "for f in fname:\n",
    "    definitions += [\n",
    "        e(\"ws353-\"+f, \"normal\", \"average\", \"max\", \"max\", f),\n",
    "        e(\"ws353-\"+f, \"cross\", \"average\", \"max\", \"max\", f),\n",
    "        e(\"ws353-\"+f, \"cross\", \"average\", \"max\", \"average\", f),\n",
    "        e(\"ws353-\"+f, \"cross\", \"mfs\", \"max\", \"max\", f)\n",
    "    ]\n",
    "\n",
    "\n",
    "for t in definitions:\n",
    "    df = experiment_string(run_experiment(run_dataset(t, test), postuple=postuple), dataframe=df)\n",
    "\n",
    "df\n",
    "\n",
    "ws_res = df\n",
    "ws_res.sort_values(by=\"spearmanr\")"
   ]
  },
  {
   "cell_type": "code",
   "execution_count": null,
   "metadata": {},
   "outputs": [],
   "source": []
  }
 ],
 "metadata": {
  "celltoolbar": "Raw Cell Format",
  "kernelspec": {
   "display_name": "Python 3",
   "language": "python",
   "name": "python3"
  },
  "language_info": {
   "codemirror_mode": {
    "name": "ipython",
    "version": 3
   },
   "file_extension": ".py",
   "mimetype": "text/x-python",
   "name": "python",
   "nbconvert_exporter": "python",
   "pygments_lexer": "ipython3",
   "version": "3.5.5"
  }
 },
 "nbformat": 4,
 "nbformat_minor": 2
}
